{
 "cells": [
  {
   "cell_type": "code",
   "execution_count": 6,
   "id": "dcc24aa6-064a-4474-91b5-f607def0eab0",
   "metadata": {},
   "outputs": [],
   "source": [
    "import cv2\n",
    "import mediapipe as mp\n",
    "import matplotlib.pyplot as plt\n",
    "import numpy as np\n",
    "mp_drawing = mp.solutions.drawing_utils\n",
    "mp_pose = mp.solutions.pose"
   ]
  },
  {
   "cell_type": "code",
   "execution_count": null,
   "id": "6dca745b-89e0-416e-8a6f-2cdc6d34d03e",
   "metadata": {},
   "outputs": [],
   "source": []
  },
  {
   "cell_type": "code",
   "execution_count": 5,
   "id": "937350d9-e3ae-4d97-9139-19d53a0acbb0",
   "metadata": {},
   "outputs": [
    {
     "name": "stderr",
     "output_type": "stream",
     "text": [
      "I0000 00:00:1751622011.185668    6853 gl_context_egl.cc:85] Successfully initialized EGL. Major : 1 Minor: 5\n",
      "I0000 00:00:1751622011.189684    7037 gl_context.cc:369] GL version: 3.2 (OpenGL ES 3.2 Mesa 24.2.8-1ubuntu1~24.04.1), renderer: Mesa Intel(R) Graphics (ADL GT2)\n",
      "W0000 00:00:1751622011.286313    7029 inference_feedback_manager.cc:114] Feedback manager requires a model with a single signature inference. Disabling support for feedback tensors.\n",
      "W0000 00:00:1751622011.326851    7031 inference_feedback_manager.cc:114] Feedback manager requires a model with a single signature inference. Disabling support for feedback tensors.\n"
     ]
    },
    {
     "name": "stdout",
     "output_type": "stream",
     "text": [
      "1\n",
      "2\n",
      "3\n"
     ]
    }
   ],
   "source": [
    "cap = cv2.VideoCapture(0)\n",
    "cv2.namedWindow('Mediapipe Feed', cv2.WINDOW_NORMAL)\n",
    "cv2.resizeWindow('Mediapipe Feed', 1920, 1080)  # Set desired window size\n",
    "counter = 0\n",
    "\n",
    "with mp_pose.Pose(min_detection_confidence=0.5, min_tracking_confidence=0.5) as pose: #confidence level set-up\n",
    "    while cap.isOpened():\n",
    "        ret, frame = cap.read()\n",
    "\n",
    "        frame = cv2.flip(frame, 1)\n",
    "        image = cv2.cvtColor(frame, cv2.COLOR_BGR2RGB) #to recolour img\n",
    "        image.flags.writeable = False \n",
    "\n",
    "        results = pose.process(image)    #for detection\n",
    "\n",
    "        image.flags.writeable = True\n",
    "        image = cv2.cvtColor(image, cv2.COLOR_RGB2BGR)\n",
    "\n",
    "\n",
    "        #to calculate angle\n",
    "        if results.pose_landmarks:\n",
    "            landmarks = results.pose_landmarks.landmark\n",
    "            \n",
    "            r_shoulder = landmarks[mp_pose.PoseLandmark.RIGHT_SHOULDER]\n",
    "            r_elbow = landmarks[mp_pose.PoseLandmark.RIGHT_ELBOW]\n",
    "            r_wrist = landmarks[mp_pose.PoseLandmark.RIGHT_WRIST]\n",
    "            r_hip = landmarks[mp_pose.PoseLandmark.RIGHT_HIP]\n",
    "            r_knee = landmarks[mp_pose.PoseLandmark.RIGHT_KNEE]\n",
    "            r_ankle = landmarks[mp_pose.PoseLandmark.RIGHT_ANKLE]\n",
    "            \n",
    "\n",
    "            l_shoulder = landmarks[mp_pose.PoseLandmark.LEFT_SHOULDER]\n",
    "            l_elbow = landmarks[mp_pose.PoseLandmark.LEFT_ELBOW]\n",
    "            l_wrist = landmarks[mp_pose.PoseLandmark.LEFT_WRIST]\n",
    "            l_hip = landmarks[mp_pose.PoseLandmark.LEFT_HIP]\n",
    "            l_knee = landmarks[mp_pose.PoseLandmark.LEFT_KNEE]\n",
    "            l_ankle = landmarks[mp_pose.PoseLandmark.LEFT_ANKLE]\n",
    "            \n",
    "\n",
    "            s_r = np.array([r_shoulder.x, r_shoulder.y])\n",
    "            e_r = np.array([r_elbow.x, r_elbow.y])\n",
    "            w_r = np.array([r_wrist.x, r_wrist.y])\n",
    "            h_r = np.array([r_hip.x, r_hip.y])\n",
    "            k_r = np.array([r_knee.x, r_knee.y])\n",
    "            a_r = np.array([r_ankle.x, r_ankle.y])\n",
    "            \n",
    "            s_l = np.array([l_shoulder.x, l_shoulder.y])\n",
    "            e_l = np.array([l_elbow.x, l_elbow.y])\n",
    "            w_l = np.array([l_wrist.x, l_wrist.y])\n",
    "            h_l = np.array([l_hip.x, l_hip.y])\n",
    "            k_l = np.array([l_knee.x, l_knee.y])\n",
    "            a_l = np.array([l_ankle.x, l_ankle.y])\n",
    "\n",
    "            \n",
    "\n",
    "            def angle_calc(a,b,c):\n",
    "                ba = a - b\n",
    "                bc = c - b\n",
    "                cos_theta = np.dot(ba,bc)/(np.linalg.norm(ba)*np.linalg.norm(bc))\n",
    "                angle = np.arccos(np.clip(cos_theta, -1.0, 1.0))\n",
    "                return np.degrees(angle)\n",
    "                \n",
    "\n",
    "            r_elbow_angle = angle_calc(s_r,e_r,w_r)\n",
    "            l_elbow_angle = angle_calc(s_l,e_l,w_l)\n",
    "\n",
    "            r_ap_angle = angle_calc(h_r,s_r,e_r)\n",
    "            l_ap_angle = angle_calc(h_l,s_l,e_l)\n",
    "\n",
    "            r_hip_angle = angle_calc(h_l, h_r, k_r)\n",
    "            l_hip_angle = angle_calc(h_r, h_l, k_l)\n",
    "\n",
    "            r_knee_angle = angle_calc(h_r, k_r, a_r)\n",
    "            l_knee_angle = angle_calc(h_l, k_l, a_l)\n",
    "\n",
    "            \n",
    "            coordinates_elbow_r = np.multiply([e_r[0],e_r[1]], [image.shape[1], image.shape[0]]).astype(int)\n",
    "            coordinates_elbow_l = np.multiply([e_l[0],e_l[1]], [image.shape[1], image.shape[0]]).astype(int)\n",
    "            \n",
    "            coordinates_ap_r = np.multiply([s_r[0],s_r[1]], [image.shape[1], image.shape[0]]).astype(int)\n",
    "            coordinates_ap_l = np.multiply([s_l[0],s_l[1]], [image.shape[1], image.shape[0]]).astype(int)\n",
    "\n",
    "            coordinates_hip_r = np.multiply([h_r[0],h_r[1]], [image.shape[1], image.shape[0]]).astype(int)\n",
    "            coordinates_hip_l = np.multiply([h_l[0],h_l[1]], [image.shape[1], image.shape[0]]).astype(int)\n",
    "\n",
    "            coordinates_knee_r = np.multiply([k_r[0],k_r[1]], [image.shape[1], image.shape[0]]).astype(int)\n",
    "            coordinates_knee_l = np.multiply([k_l[0],k_l[1]], [image.shape[1], image.shape[0]]).astype(int)            \n",
    "\n",
    "            cv2.putText(image, str(int(r_elbow_angle)),tuple(coordinates_elbow_r), cv2.FONT_HERSHEY_SIMPLEX, 0.5, (0,255,0), 2)\n",
    "            cv2.putText(image, str(int(l_elbow_angle)),tuple(coordinates_elbow_l), cv2.FONT_HERSHEY_SIMPLEX, 0.5, (0,255,0), 2)\n",
    "            \n",
    "            cv2.putText(image, str(int(r_ap_angle)),tuple(coordinates_ap_r), cv2.FONT_HERSHEY_SIMPLEX, 0.5, (0,255,0), 2)\n",
    "            cv2.putText(image, str(int(l_ap_angle)),tuple(coordinates_ap_l), cv2.FONT_HERSHEY_SIMPLEX, 0.5, (0,255,0), 2)\n",
    "\n",
    "            cv2.putText(image, str(int(r_hip_angle)),tuple(coordinates_hip_r), cv2.FONT_HERSHEY_SIMPLEX, 0.5, (0,255,0), 2)\n",
    "            cv2.putText(image, str(int(l_hip_angle)),tuple(coordinates_hip_l), cv2.FONT_HERSHEY_SIMPLEX, 0.5, (0,255,0), 2)\n",
    "\n",
    "            cv2.putText(image, str(int(r_knee_angle)),tuple(coordinates_knee_r), cv2.FONT_HERSHEY_SIMPLEX, 0.5, (0,255,0), 2)\n",
    "            cv2.putText(image, str(int(l_knee_angle)),tuple(coordinates_knee_l), cv2.FONT_HERSHEY_SIMPLEX, 0.5, (0,255,0), 2)\n",
    "\n",
    "    \n",
    "            if r_elbow_angle > 160 and l_elbow_angle > 160:\n",
    "                pos = \"down\"\n",
    "            if r_elbow_angle < 30 and l_elbow_angle < 30 and pos == 'down':\n",
    "                pos = \"up\"\n",
    "                counter += 1\n",
    "                print(counter)\n",
    "                \n",
    "\n",
    "        \n",
    "            mp_drawing.draw_landmarks(image, results.pose_landmarks, mp_pose.POSE_CONNECTIONS)\n",
    "            \n",
    "        \n",
    "\n",
    "        image = cv2.resize(image, (1920, 1080))\n",
    "        cv2.imshow('Mediapipe Feed', image) #loop through the frames\n",
    "      \n",
    "        if cv2.waitKey(10) & 0xFF == ord('q'): #to close the window\n",
    "            break\n",
    "    \n",
    "    cap.release()\n",
    "    cv2.destroyAllWindows()"
   ]
  },
  {
   "cell_type": "code",
   "execution_count": null,
   "id": "6571f2a5-8ca9-4b19-8b58-771537b821bb",
   "metadata": {},
   "outputs": [],
   "source": []
  },
  {
   "cell_type": "code",
   "execution_count": null,
   "id": "3a95839f-862a-4aad-bc91-b831bceb2fc0",
   "metadata": {},
   "outputs": [],
   "source": []
  },
  {
   "cell_type": "code",
   "execution_count": null,
   "id": "740ad914-0f79-4aea-8fa3-66f56e568609",
   "metadata": {},
   "outputs": [],
   "source": []
  },
  {
   "cell_type": "code",
   "execution_count": null,
   "id": "69abb98a-9f5b-424e-90c6-beeeacaa22a1",
   "metadata": {},
   "outputs": [],
   "source": []
  },
  {
   "cell_type": "code",
   "execution_count": null,
   "id": "293192e9-eb3b-40df-91a4-5f09318a47fd",
   "metadata": {},
   "outputs": [],
   "source": []
  },
  {
   "cell_type": "code",
   "execution_count": null,
   "id": "9c57ce23-bab9-4807-baaa-720a6f7f9686",
   "metadata": {},
   "outputs": [],
   "source": []
  },
  {
   "cell_type": "code",
   "execution_count": null,
   "id": "286afac6-7263-4408-b835-c940d54c63af",
   "metadata": {},
   "outputs": [],
   "source": []
  },
  {
   "cell_type": "code",
   "execution_count": null,
   "id": "d01bb448-4212-4421-9d88-31eb1398bf1b",
   "metadata": {},
   "outputs": [],
   "source": []
  },
  {
   "cell_type": "code",
   "execution_count": null,
   "id": "7d1aff40-3222-4da1-adea-238b9b3c7a45",
   "metadata": {},
   "outputs": [],
   "source": []
  },
  {
   "cell_type": "code",
   "execution_count": null,
   "id": "e6fc13ec-4d61-410e-b0b9-b6c62de59142",
   "metadata": {},
   "outputs": [],
   "source": []
  },
  {
   "cell_type": "code",
   "execution_count": null,
   "id": "1d33a631-f183-4ce8-9ef9-fceb2cbb23eb",
   "metadata": {},
   "outputs": [],
   "source": []
  },
  {
   "cell_type": "code",
   "execution_count": null,
   "id": "b2e84fb0-2bd0-4f06-8f5d-ba11df30a6f1",
   "metadata": {},
   "outputs": [],
   "source": []
  },
  {
   "cell_type": "code",
   "execution_count": null,
   "id": "d925f58f-05c3-43c7-a1b4-37cad2dfac1d",
   "metadata": {},
   "outputs": [],
   "source": []
  },
  {
   "cell_type": "code",
   "execution_count": null,
   "id": "fbf006e6-3ccf-4722-a44a-9e612072f28c",
   "metadata": {},
   "outputs": [],
   "source": []
  },
  {
   "cell_type": "code",
   "execution_count": null,
   "id": "56a57b8a-4359-4c36-8f17-d6a5e3953836",
   "metadata": {},
   "outputs": [],
   "source": []
  }
 ],
 "metadata": {
  "kernelspec": {
   "display_name": "Python 3 (ipykernel)",
   "language": "python",
   "name": "python3"
  },
  "language_info": {
   "codemirror_mode": {
    "name": "ipython",
    "version": 3
   },
   "file_extension": ".py",
   "mimetype": "text/x-python",
   "name": "python",
   "nbconvert_exporter": "python",
   "pygments_lexer": "ipython3",
   "version": "3.10.13"
  }
 },
 "nbformat": 4,
 "nbformat_minor": 5
}
